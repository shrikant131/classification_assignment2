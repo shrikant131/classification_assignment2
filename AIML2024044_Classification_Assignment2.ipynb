{
  "cells": [
    {
      "cell_type": "markdown",
      "metadata": {
        "id": "view-in-github",
        "colab_type": "text"
      },
      "source": [
        "<a href=\"https://colab.research.google.com/github/shrikant131/classification_assignment2/blob/main/AIML2024044_Classification_Assignment2.ipynb\" target=\"_parent\"><img src=\"https://colab.research.google.com/assets/colab-badge.svg\" alt=\"Open In Colab\"/></a>"
      ]
    },
    {
      "cell_type": "markdown",
      "metadata": {
        "id": "mozSgkj3mDxO"
      },
      "source": [
        "**Import Necessary Libraries**"
      ]
    },
    {
      "cell_type": "markdown",
      "metadata": {
        "id": "O0i5eSiscOd5"
      },
      "source": [
        "**This dataset is about Placement data of students based on different features. <br>\n",
        "Key features are CGPA, Internships, No of projects, # of workshops conducted, certifications, Aptitude Score, HSE and SSC marks. Baed on the features, the class variable PlacementStatus is defined.**"
      ]
    },
    {
      "cell_type": "code",
      "execution_count": 1,
      "metadata": {
        "id": "jgLXF_1sl0Xm"
      },
      "outputs": [],
      "source": [
        "# Evaluating model performance using confusion matrix\n",
        "# Splitting the dataset into training and testing sets\n",
        "import numpy as np\n",
        "import pandas as pd\n",
        "import matplotlib.pyplot as plt\n",
        "import seaborn as sns\n",
        "from sklearn.model_selection import train_test_split\n",
        "from sklearn.linear_model import LogisticRegression\n",
        "from sklearn.naive_bayes import GaussianNB\n",
        "from sklearn.metrics import accuracy_score, confusion_matrix, classification_report, roc_curve, auc\n",
        "from sklearn.metrics import accuracy_score, precision_score, recall_score, f1_score"
      ]
    },
    {
      "cell_type": "markdown",
      "metadata": {
        "id": "LVOqLeb8nQMQ"
      },
      "source": [
        "**Load the DataSet <br>\n",
        "Print Top 5 Rows <br>\n",
        "Describe the Dataset <br>\n",
        "Print the Shape of Dataset**"
      ]
    },
    {
      "cell_type": "code",
      "execution_count": 2,
      "metadata": {
        "colab": {
          "base_uri": "https://localhost:8080/",
          "height": 226
        },
        "collapsed": true,
        "id": "itatCZ5PnTS7",
        "outputId": "599db622-647f-4eec-d4c8-9f9266dc6cf2"
      },
      "outputs": [
        {
          "output_type": "execute_result",
          "data": {
            "text/plain": [
              "   StudentID  CGPA  Internships  Projects  Workshops/Certifications  \\\n",
              "0          1   7.5            1         1                         1   \n",
              "1          2   8.9            0         3                         2   \n",
              "2          3   7.3            1         2                         2   \n",
              "3          4   7.5            1         1                         2   \n",
              "4          5   8.3            1         2                         2   \n",
              "\n",
              "   AptitudeTestScore  SoftSkillsRating ExtracurricularActivities  \\\n",
              "0                 65               4.4                        No   \n",
              "1                 90               4.0                       Yes   \n",
              "2                 82               4.8                       Yes   \n",
              "3                 85               4.4                       Yes   \n",
              "4                 86               4.5                       Yes   \n",
              "\n",
              "  PlacementTraining  SSC_Marks  HSC_Marks PlacementStatus  \n",
              "0                No         61         79       NotPlaced  \n",
              "1               Yes         78         82          Placed  \n",
              "2                No         79         80       NotPlaced  \n",
              "3               Yes         81         80          Placed  \n",
              "4               Yes         74         88          Placed  "
            ],
            "text/html": [
              "\n",
              "  <div id=\"df-a99fc1f2-b769-40ff-82e5-3201e7a58470\" class=\"colab-df-container\">\n",
              "    <div>\n",
              "<style scoped>\n",
              "    .dataframe tbody tr th:only-of-type {\n",
              "        vertical-align: middle;\n",
              "    }\n",
              "\n",
              "    .dataframe tbody tr th {\n",
              "        vertical-align: top;\n",
              "    }\n",
              "\n",
              "    .dataframe thead th {\n",
              "        text-align: right;\n",
              "    }\n",
              "</style>\n",
              "<table border=\"1\" class=\"dataframe\">\n",
              "  <thead>\n",
              "    <tr style=\"text-align: right;\">\n",
              "      <th></th>\n",
              "      <th>StudentID</th>\n",
              "      <th>CGPA</th>\n",
              "      <th>Internships</th>\n",
              "      <th>Projects</th>\n",
              "      <th>Workshops/Certifications</th>\n",
              "      <th>AptitudeTestScore</th>\n",
              "      <th>SoftSkillsRating</th>\n",
              "      <th>ExtracurricularActivities</th>\n",
              "      <th>PlacementTraining</th>\n",
              "      <th>SSC_Marks</th>\n",
              "      <th>HSC_Marks</th>\n",
              "      <th>PlacementStatus</th>\n",
              "    </tr>\n",
              "  </thead>\n",
              "  <tbody>\n",
              "    <tr>\n",
              "      <th>0</th>\n",
              "      <td>1</td>\n",
              "      <td>7.5</td>\n",
              "      <td>1</td>\n",
              "      <td>1</td>\n",
              "      <td>1</td>\n",
              "      <td>65</td>\n",
              "      <td>4.4</td>\n",
              "      <td>No</td>\n",
              "      <td>No</td>\n",
              "      <td>61</td>\n",
              "      <td>79</td>\n",
              "      <td>NotPlaced</td>\n",
              "    </tr>\n",
              "    <tr>\n",
              "      <th>1</th>\n",
              "      <td>2</td>\n",
              "      <td>8.9</td>\n",
              "      <td>0</td>\n",
              "      <td>3</td>\n",
              "      <td>2</td>\n",
              "      <td>90</td>\n",
              "      <td>4.0</td>\n",
              "      <td>Yes</td>\n",
              "      <td>Yes</td>\n",
              "      <td>78</td>\n",
              "      <td>82</td>\n",
              "      <td>Placed</td>\n",
              "    </tr>\n",
              "    <tr>\n",
              "      <th>2</th>\n",
              "      <td>3</td>\n",
              "      <td>7.3</td>\n",
              "      <td>1</td>\n",
              "      <td>2</td>\n",
              "      <td>2</td>\n",
              "      <td>82</td>\n",
              "      <td>4.8</td>\n",
              "      <td>Yes</td>\n",
              "      <td>No</td>\n",
              "      <td>79</td>\n",
              "      <td>80</td>\n",
              "      <td>NotPlaced</td>\n",
              "    </tr>\n",
              "    <tr>\n",
              "      <th>3</th>\n",
              "      <td>4</td>\n",
              "      <td>7.5</td>\n",
              "      <td>1</td>\n",
              "      <td>1</td>\n",
              "      <td>2</td>\n",
              "      <td>85</td>\n",
              "      <td>4.4</td>\n",
              "      <td>Yes</td>\n",
              "      <td>Yes</td>\n",
              "      <td>81</td>\n",
              "      <td>80</td>\n",
              "      <td>Placed</td>\n",
              "    </tr>\n",
              "    <tr>\n",
              "      <th>4</th>\n",
              "      <td>5</td>\n",
              "      <td>8.3</td>\n",
              "      <td>1</td>\n",
              "      <td>2</td>\n",
              "      <td>2</td>\n",
              "      <td>86</td>\n",
              "      <td>4.5</td>\n",
              "      <td>Yes</td>\n",
              "      <td>Yes</td>\n",
              "      <td>74</td>\n",
              "      <td>88</td>\n",
              "      <td>Placed</td>\n",
              "    </tr>\n",
              "  </tbody>\n",
              "</table>\n",
              "</div>\n",
              "    <div class=\"colab-df-buttons\">\n",
              "\n",
              "  <div class=\"colab-df-container\">\n",
              "    <button class=\"colab-df-convert\" onclick=\"convertToInteractive('df-a99fc1f2-b769-40ff-82e5-3201e7a58470')\"\n",
              "            title=\"Convert this dataframe to an interactive table.\"\n",
              "            style=\"display:none;\">\n",
              "\n",
              "  <svg xmlns=\"http://www.w3.org/2000/svg\" height=\"24px\" viewBox=\"0 -960 960 960\">\n",
              "    <path d=\"M120-120v-720h720v720H120Zm60-500h600v-160H180v160Zm220 220h160v-160H400v160Zm0 220h160v-160H400v160ZM180-400h160v-160H180v160Zm440 0h160v-160H620v160ZM180-180h160v-160H180v160Zm440 0h160v-160H620v160Z\"/>\n",
              "  </svg>\n",
              "    </button>\n",
              "\n",
              "  <style>\n",
              "    .colab-df-container {\n",
              "      display:flex;\n",
              "      gap: 12px;\n",
              "    }\n",
              "\n",
              "    .colab-df-convert {\n",
              "      background-color: #E8F0FE;\n",
              "      border: none;\n",
              "      border-radius: 50%;\n",
              "      cursor: pointer;\n",
              "      display: none;\n",
              "      fill: #1967D2;\n",
              "      height: 32px;\n",
              "      padding: 0 0 0 0;\n",
              "      width: 32px;\n",
              "    }\n",
              "\n",
              "    .colab-df-convert:hover {\n",
              "      background-color: #E2EBFA;\n",
              "      box-shadow: 0px 1px 2px rgba(60, 64, 67, 0.3), 0px 1px 3px 1px rgba(60, 64, 67, 0.15);\n",
              "      fill: #174EA6;\n",
              "    }\n",
              "\n",
              "    .colab-df-buttons div {\n",
              "      margin-bottom: 4px;\n",
              "    }\n",
              "\n",
              "    [theme=dark] .colab-df-convert {\n",
              "      background-color: #3B4455;\n",
              "      fill: #D2E3FC;\n",
              "    }\n",
              "\n",
              "    [theme=dark] .colab-df-convert:hover {\n",
              "      background-color: #434B5C;\n",
              "      box-shadow: 0px 1px 3px 1px rgba(0, 0, 0, 0.15);\n",
              "      filter: drop-shadow(0px 1px 2px rgba(0, 0, 0, 0.3));\n",
              "      fill: #FFFFFF;\n",
              "    }\n",
              "  </style>\n",
              "\n",
              "    <script>\n",
              "      const buttonEl =\n",
              "        document.querySelector('#df-a99fc1f2-b769-40ff-82e5-3201e7a58470 button.colab-df-convert');\n",
              "      buttonEl.style.display =\n",
              "        google.colab.kernel.accessAllowed ? 'block' : 'none';\n",
              "\n",
              "      async function convertToInteractive(key) {\n",
              "        const element = document.querySelector('#df-a99fc1f2-b769-40ff-82e5-3201e7a58470');\n",
              "        const dataTable =\n",
              "          await google.colab.kernel.invokeFunction('convertToInteractive',\n",
              "                                                    [key], {});\n",
              "        if (!dataTable) return;\n",
              "\n",
              "        const docLinkHtml = 'Like what you see? Visit the ' +\n",
              "          '<a target=\"_blank\" href=https://colab.research.google.com/notebooks/data_table.ipynb>data table notebook</a>'\n",
              "          + ' to learn more about interactive tables.';\n",
              "        element.innerHTML = '';\n",
              "        dataTable['output_type'] = 'display_data';\n",
              "        await google.colab.output.renderOutput(dataTable, element);\n",
              "        const docLink = document.createElement('div');\n",
              "        docLink.innerHTML = docLinkHtml;\n",
              "        element.appendChild(docLink);\n",
              "      }\n",
              "    </script>\n",
              "  </div>\n",
              "\n",
              "\n",
              "<div id=\"df-515fc46d-b227-432b-91f2-2efac443c2dd\">\n",
              "  <button class=\"colab-df-quickchart\" onclick=\"quickchart('df-515fc46d-b227-432b-91f2-2efac443c2dd')\"\n",
              "            title=\"Suggest charts\"\n",
              "            style=\"display:none;\">\n",
              "\n",
              "<svg xmlns=\"http://www.w3.org/2000/svg\" height=\"24px\"viewBox=\"0 0 24 24\"\n",
              "     width=\"24px\">\n",
              "    <g>\n",
              "        <path d=\"M19 3H5c-1.1 0-2 .9-2 2v14c0 1.1.9 2 2 2h14c1.1 0 2-.9 2-2V5c0-1.1-.9-2-2-2zM9 17H7v-7h2v7zm4 0h-2V7h2v10zm4 0h-2v-4h2v4z\"/>\n",
              "    </g>\n",
              "</svg>\n",
              "  </button>\n",
              "\n",
              "<style>\n",
              "  .colab-df-quickchart {\n",
              "      --bg-color: #E8F0FE;\n",
              "      --fill-color: #1967D2;\n",
              "      --hover-bg-color: #E2EBFA;\n",
              "      --hover-fill-color: #174EA6;\n",
              "      --disabled-fill-color: #AAA;\n",
              "      --disabled-bg-color: #DDD;\n",
              "  }\n",
              "\n",
              "  [theme=dark] .colab-df-quickchart {\n",
              "      --bg-color: #3B4455;\n",
              "      --fill-color: #D2E3FC;\n",
              "      --hover-bg-color: #434B5C;\n",
              "      --hover-fill-color: #FFFFFF;\n",
              "      --disabled-bg-color: #3B4455;\n",
              "      --disabled-fill-color: #666;\n",
              "  }\n",
              "\n",
              "  .colab-df-quickchart {\n",
              "    background-color: var(--bg-color);\n",
              "    border: none;\n",
              "    border-radius: 50%;\n",
              "    cursor: pointer;\n",
              "    display: none;\n",
              "    fill: var(--fill-color);\n",
              "    height: 32px;\n",
              "    padding: 0;\n",
              "    width: 32px;\n",
              "  }\n",
              "\n",
              "  .colab-df-quickchart:hover {\n",
              "    background-color: var(--hover-bg-color);\n",
              "    box-shadow: 0 1px 2px rgba(60, 64, 67, 0.3), 0 1px 3px 1px rgba(60, 64, 67, 0.15);\n",
              "    fill: var(--button-hover-fill-color);\n",
              "  }\n",
              "\n",
              "  .colab-df-quickchart-complete:disabled,\n",
              "  .colab-df-quickchart-complete:disabled:hover {\n",
              "    background-color: var(--disabled-bg-color);\n",
              "    fill: var(--disabled-fill-color);\n",
              "    box-shadow: none;\n",
              "  }\n",
              "\n",
              "  .colab-df-spinner {\n",
              "    border: 2px solid var(--fill-color);\n",
              "    border-color: transparent;\n",
              "    border-bottom-color: var(--fill-color);\n",
              "    animation:\n",
              "      spin 1s steps(1) infinite;\n",
              "  }\n",
              "\n",
              "  @keyframes spin {\n",
              "    0% {\n",
              "      border-color: transparent;\n",
              "      border-bottom-color: var(--fill-color);\n",
              "      border-left-color: var(--fill-color);\n",
              "    }\n",
              "    20% {\n",
              "      border-color: transparent;\n",
              "      border-left-color: var(--fill-color);\n",
              "      border-top-color: var(--fill-color);\n",
              "    }\n",
              "    30% {\n",
              "      border-color: transparent;\n",
              "      border-left-color: var(--fill-color);\n",
              "      border-top-color: var(--fill-color);\n",
              "      border-right-color: var(--fill-color);\n",
              "    }\n",
              "    40% {\n",
              "      border-color: transparent;\n",
              "      border-right-color: var(--fill-color);\n",
              "      border-top-color: var(--fill-color);\n",
              "    }\n",
              "    60% {\n",
              "      border-color: transparent;\n",
              "      border-right-color: var(--fill-color);\n",
              "    }\n",
              "    80% {\n",
              "      border-color: transparent;\n",
              "      border-right-color: var(--fill-color);\n",
              "      border-bottom-color: var(--fill-color);\n",
              "    }\n",
              "    90% {\n",
              "      border-color: transparent;\n",
              "      border-bottom-color: var(--fill-color);\n",
              "    }\n",
              "  }\n",
              "</style>\n",
              "\n",
              "  <script>\n",
              "    async function quickchart(key) {\n",
              "      const quickchartButtonEl =\n",
              "        document.querySelector('#' + key + ' button');\n",
              "      quickchartButtonEl.disabled = true;  // To prevent multiple clicks.\n",
              "      quickchartButtonEl.classList.add('colab-df-spinner');\n",
              "      try {\n",
              "        const charts = await google.colab.kernel.invokeFunction(\n",
              "            'suggestCharts', [key], {});\n",
              "      } catch (error) {\n",
              "        console.error('Error during call to suggestCharts:', error);\n",
              "      }\n",
              "      quickchartButtonEl.classList.remove('colab-df-spinner');\n",
              "      quickchartButtonEl.classList.add('colab-df-quickchart-complete');\n",
              "    }\n",
              "    (() => {\n",
              "      let quickchartButtonEl =\n",
              "        document.querySelector('#df-515fc46d-b227-432b-91f2-2efac443c2dd button');\n",
              "      quickchartButtonEl.style.display =\n",
              "        google.colab.kernel.accessAllowed ? 'block' : 'none';\n",
              "    })();\n",
              "  </script>\n",
              "</div>\n",
              "\n",
              "    </div>\n",
              "  </div>\n"
            ],
            "application/vnd.google.colaboratory.intrinsic+json": {
              "type": "dataframe",
              "variable_name": "df",
              "summary": "{\n  \"name\": \"df\",\n  \"rows\": 10000,\n  \"fields\": [\n    {\n      \"column\": \"StudentID\",\n      \"properties\": {\n        \"dtype\": \"number\",\n        \"std\": 2886,\n        \"min\": 1,\n        \"max\": 10000,\n        \"num_unique_values\": 10000,\n        \"samples\": [\n          6253,\n          4685,\n          1732\n        ],\n        \"semantic_type\": \"\",\n        \"description\": \"\"\n      }\n    },\n    {\n      \"column\": \"CGPA\",\n      \"properties\": {\n        \"dtype\": \"number\",\n        \"std\": 0.6401312495900275,\n        \"min\": 6.5,\n        \"max\": 9.1,\n        \"num_unique_values\": 27,\n        \"samples\": [\n          7.9,\n          7.6,\n          7.4\n        ],\n        \"semantic_type\": \"\",\n        \"description\": \"\"\n      }\n    },\n    {\n      \"column\": \"Internships\",\n      \"properties\": {\n        \"dtype\": \"number\",\n        \"std\": 0,\n        \"min\": 0,\n        \"max\": 2,\n        \"num_unique_values\": 3,\n        \"samples\": [\n          1,\n          0,\n          2\n        ],\n        \"semantic_type\": \"\",\n        \"description\": \"\"\n      }\n    },\n    {\n      \"column\": \"Projects\",\n      \"properties\": {\n        \"dtype\": \"number\",\n        \"std\": 0,\n        \"min\": 0,\n        \"max\": 3,\n        \"num_unique_values\": 4,\n        \"samples\": [\n          3,\n          0,\n          1\n        ],\n        \"semantic_type\": \"\",\n        \"description\": \"\"\n      }\n    },\n    {\n      \"column\": \"Workshops/Certifications\",\n      \"properties\": {\n        \"dtype\": \"number\",\n        \"std\": 0,\n        \"min\": 0,\n        \"max\": 3,\n        \"num_unique_values\": 4,\n        \"samples\": [\n          2,\n          3,\n          1\n        ],\n        \"semantic_type\": \"\",\n        \"description\": \"\"\n      }\n    },\n    {\n      \"column\": \"AptitudeTestScore\",\n      \"properties\": {\n        \"dtype\": \"number\",\n        \"std\": 8,\n        \"min\": 60,\n        \"max\": 90,\n        \"num_unique_values\": 31,\n        \"samples\": [\n          69,\n          77,\n          62\n        ],\n        \"semantic_type\": \"\",\n        \"description\": \"\"\n      }\n    },\n    {\n      \"column\": \"SoftSkillsRating\",\n      \"properties\": {\n        \"dtype\": \"number\",\n        \"std\": 0.41162223176862817,\n        \"min\": 3.0,\n        \"max\": 4.8,\n        \"num_unique_values\": 19,\n        \"samples\": [\n          4.4,\n          3.5,\n          3.8\n        ],\n        \"semantic_type\": \"\",\n        \"description\": \"\"\n      }\n    },\n    {\n      \"column\": \"ExtracurricularActivities\",\n      \"properties\": {\n        \"dtype\": \"category\",\n        \"num_unique_values\": 2,\n        \"samples\": [\n          \"Yes\",\n          \"No\"\n        ],\n        \"semantic_type\": \"\",\n        \"description\": \"\"\n      }\n    },\n    {\n      \"column\": \"PlacementTraining\",\n      \"properties\": {\n        \"dtype\": \"category\",\n        \"num_unique_values\": 2,\n        \"samples\": [\n          \"Yes\",\n          \"No\"\n        ],\n        \"semantic_type\": \"\",\n        \"description\": \"\"\n      }\n    },\n    {\n      \"column\": \"SSC_Marks\",\n      \"properties\": {\n        \"dtype\": \"number\",\n        \"std\": 10,\n        \"min\": 55,\n        \"max\": 90,\n        \"num_unique_values\": 36,\n        \"samples\": [\n          89,\n          63\n        ],\n        \"semantic_type\": \"\",\n        \"description\": \"\"\n      }\n    },\n    {\n      \"column\": \"HSC_Marks\",\n      \"properties\": {\n        \"dtype\": \"number\",\n        \"std\": 8,\n        \"min\": 57,\n        \"max\": 88,\n        \"num_unique_values\": 32,\n        \"samples\": [\n          59,\n          69\n        ],\n        \"semantic_type\": \"\",\n        \"description\": \"\"\n      }\n    },\n    {\n      \"column\": \"PlacementStatus\",\n      \"properties\": {\n        \"dtype\": \"category\",\n        \"num_unique_values\": 2,\n        \"samples\": [\n          \"Placed\",\n          \"NotPlaced\"\n        ],\n        \"semantic_type\": \"\",\n        \"description\": \"\"\n      }\n    }\n  ]\n}"
            }
          },
          "metadata": {},
          "execution_count": 2
        }
      ],
      "source": [
        "df = pd.read_csv('placementdata.csv')\n",
        "df.head()"
      ]
    },
    {
      "cell_type": "code",
      "execution_count": 3,
      "metadata": {
        "colab": {
          "base_uri": "https://localhost:8080/",
          "height": 320
        },
        "collapsed": true,
        "id": "_6sfX3jTopC8",
        "outputId": "1b7c7fe3-d42b-4b17-a5d7-67e8227944b9"
      },
      "outputs": [
        {
          "output_type": "execute_result",
          "data": {
            "text/plain": [
              "         StudentID          CGPA   Internships      Projects  \\\n",
              "count  10000.00000  10000.000000  10000.000000  10000.000000   \n",
              "mean    5000.50000      7.698010      1.049200      2.026600   \n",
              "std     2886.89568      0.640131      0.665901      0.867968   \n",
              "min        1.00000      6.500000      0.000000      0.000000   \n",
              "25%     2500.75000      7.400000      1.000000      1.000000   \n",
              "50%     5000.50000      7.700000      1.000000      2.000000   \n",
              "75%     7500.25000      8.200000      1.000000      3.000000   \n",
              "max    10000.00000      9.100000      2.000000      3.000000   \n",
              "\n",
              "       Workshops/Certifications  AptitudeTestScore  SoftSkillsRating  \\\n",
              "count              10000.000000       10000.000000      10000.000000   \n",
              "mean                   1.013200          79.449900          4.323960   \n",
              "std                    0.904272           8.159997          0.411622   \n",
              "min                    0.000000          60.000000          3.000000   \n",
              "25%                    0.000000          73.000000          4.000000   \n",
              "50%                    1.000000          80.000000          4.400000   \n",
              "75%                    2.000000          87.000000          4.700000   \n",
              "max                    3.000000          90.000000          4.800000   \n",
              "\n",
              "          SSC_Marks     HSC_Marks  \n",
              "count  10000.000000  10000.000000  \n",
              "mean      69.159400     74.501500  \n",
              "std       10.430459      8.919527  \n",
              "min       55.000000     57.000000  \n",
              "25%       59.000000     67.000000  \n",
              "50%       70.000000     73.000000  \n",
              "75%       78.000000     83.000000  \n",
              "max       90.000000     88.000000  "
            ],
            "text/html": [
              "\n",
              "  <div id=\"df-03eb26ff-3136-40bb-925f-1b2b98f8046c\" class=\"colab-df-container\">\n",
              "    <div>\n",
              "<style scoped>\n",
              "    .dataframe tbody tr th:only-of-type {\n",
              "        vertical-align: middle;\n",
              "    }\n",
              "\n",
              "    .dataframe tbody tr th {\n",
              "        vertical-align: top;\n",
              "    }\n",
              "\n",
              "    .dataframe thead th {\n",
              "        text-align: right;\n",
              "    }\n",
              "</style>\n",
              "<table border=\"1\" class=\"dataframe\">\n",
              "  <thead>\n",
              "    <tr style=\"text-align: right;\">\n",
              "      <th></th>\n",
              "      <th>StudentID</th>\n",
              "      <th>CGPA</th>\n",
              "      <th>Internships</th>\n",
              "      <th>Projects</th>\n",
              "      <th>Workshops/Certifications</th>\n",
              "      <th>AptitudeTestScore</th>\n",
              "      <th>SoftSkillsRating</th>\n",
              "      <th>SSC_Marks</th>\n",
              "      <th>HSC_Marks</th>\n",
              "    </tr>\n",
              "  </thead>\n",
              "  <tbody>\n",
              "    <tr>\n",
              "      <th>count</th>\n",
              "      <td>10000.00000</td>\n",
              "      <td>10000.000000</td>\n",
              "      <td>10000.000000</td>\n",
              "      <td>10000.000000</td>\n",
              "      <td>10000.000000</td>\n",
              "      <td>10000.000000</td>\n",
              "      <td>10000.000000</td>\n",
              "      <td>10000.000000</td>\n",
              "      <td>10000.000000</td>\n",
              "    </tr>\n",
              "    <tr>\n",
              "      <th>mean</th>\n",
              "      <td>5000.50000</td>\n",
              "      <td>7.698010</td>\n",
              "      <td>1.049200</td>\n",
              "      <td>2.026600</td>\n",
              "      <td>1.013200</td>\n",
              "      <td>79.449900</td>\n",
              "      <td>4.323960</td>\n",
              "      <td>69.159400</td>\n",
              "      <td>74.501500</td>\n",
              "    </tr>\n",
              "    <tr>\n",
              "      <th>std</th>\n",
              "      <td>2886.89568</td>\n",
              "      <td>0.640131</td>\n",
              "      <td>0.665901</td>\n",
              "      <td>0.867968</td>\n",
              "      <td>0.904272</td>\n",
              "      <td>8.159997</td>\n",
              "      <td>0.411622</td>\n",
              "      <td>10.430459</td>\n",
              "      <td>8.919527</td>\n",
              "    </tr>\n",
              "    <tr>\n",
              "      <th>min</th>\n",
              "      <td>1.00000</td>\n",
              "      <td>6.500000</td>\n",
              "      <td>0.000000</td>\n",
              "      <td>0.000000</td>\n",
              "      <td>0.000000</td>\n",
              "      <td>60.000000</td>\n",
              "      <td>3.000000</td>\n",
              "      <td>55.000000</td>\n",
              "      <td>57.000000</td>\n",
              "    </tr>\n",
              "    <tr>\n",
              "      <th>25%</th>\n",
              "      <td>2500.75000</td>\n",
              "      <td>7.400000</td>\n",
              "      <td>1.000000</td>\n",
              "      <td>1.000000</td>\n",
              "      <td>0.000000</td>\n",
              "      <td>73.000000</td>\n",
              "      <td>4.000000</td>\n",
              "      <td>59.000000</td>\n",
              "      <td>67.000000</td>\n",
              "    </tr>\n",
              "    <tr>\n",
              "      <th>50%</th>\n",
              "      <td>5000.50000</td>\n",
              "      <td>7.700000</td>\n",
              "      <td>1.000000</td>\n",
              "      <td>2.000000</td>\n",
              "      <td>1.000000</td>\n",
              "      <td>80.000000</td>\n",
              "      <td>4.400000</td>\n",
              "      <td>70.000000</td>\n",
              "      <td>73.000000</td>\n",
              "    </tr>\n",
              "    <tr>\n",
              "      <th>75%</th>\n",
              "      <td>7500.25000</td>\n",
              "      <td>8.200000</td>\n",
              "      <td>1.000000</td>\n",
              "      <td>3.000000</td>\n",
              "      <td>2.000000</td>\n",
              "      <td>87.000000</td>\n",
              "      <td>4.700000</td>\n",
              "      <td>78.000000</td>\n",
              "      <td>83.000000</td>\n",
              "    </tr>\n",
              "    <tr>\n",
              "      <th>max</th>\n",
              "      <td>10000.00000</td>\n",
              "      <td>9.100000</td>\n",
              "      <td>2.000000</td>\n",
              "      <td>3.000000</td>\n",
              "      <td>3.000000</td>\n",
              "      <td>90.000000</td>\n",
              "      <td>4.800000</td>\n",
              "      <td>90.000000</td>\n",
              "      <td>88.000000</td>\n",
              "    </tr>\n",
              "  </tbody>\n",
              "</table>\n",
              "</div>\n",
              "    <div class=\"colab-df-buttons\">\n",
              "\n",
              "  <div class=\"colab-df-container\">\n",
              "    <button class=\"colab-df-convert\" onclick=\"convertToInteractive('df-03eb26ff-3136-40bb-925f-1b2b98f8046c')\"\n",
              "            title=\"Convert this dataframe to an interactive table.\"\n",
              "            style=\"display:none;\">\n",
              "\n",
              "  <svg xmlns=\"http://www.w3.org/2000/svg\" height=\"24px\" viewBox=\"0 -960 960 960\">\n",
              "    <path d=\"M120-120v-720h720v720H120Zm60-500h600v-160H180v160Zm220 220h160v-160H400v160Zm0 220h160v-160H400v160ZM180-400h160v-160H180v160Zm440 0h160v-160H620v160ZM180-180h160v-160H180v160Zm440 0h160v-160H620v160Z\"/>\n",
              "  </svg>\n",
              "    </button>\n",
              "\n",
              "  <style>\n",
              "    .colab-df-container {\n",
              "      display:flex;\n",
              "      gap: 12px;\n",
              "    }\n",
              "\n",
              "    .colab-df-convert {\n",
              "      background-color: #E8F0FE;\n",
              "      border: none;\n",
              "      border-radius: 50%;\n",
              "      cursor: pointer;\n",
              "      display: none;\n",
              "      fill: #1967D2;\n",
              "      height: 32px;\n",
              "      padding: 0 0 0 0;\n",
              "      width: 32px;\n",
              "    }\n",
              "\n",
              "    .colab-df-convert:hover {\n",
              "      background-color: #E2EBFA;\n",
              "      box-shadow: 0px 1px 2px rgba(60, 64, 67, 0.3), 0px 1px 3px 1px rgba(60, 64, 67, 0.15);\n",
              "      fill: #174EA6;\n",
              "    }\n",
              "\n",
              "    .colab-df-buttons div {\n",
              "      margin-bottom: 4px;\n",
              "    }\n",
              "\n",
              "    [theme=dark] .colab-df-convert {\n",
              "      background-color: #3B4455;\n",
              "      fill: #D2E3FC;\n",
              "    }\n",
              "\n",
              "    [theme=dark] .colab-df-convert:hover {\n",
              "      background-color: #434B5C;\n",
              "      box-shadow: 0px 1px 3px 1px rgba(0, 0, 0, 0.15);\n",
              "      filter: drop-shadow(0px 1px 2px rgba(0, 0, 0, 0.3));\n",
              "      fill: #FFFFFF;\n",
              "    }\n",
              "  </style>\n",
              "\n",
              "    <script>\n",
              "      const buttonEl =\n",
              "        document.querySelector('#df-03eb26ff-3136-40bb-925f-1b2b98f8046c button.colab-df-convert');\n",
              "      buttonEl.style.display =\n",
              "        google.colab.kernel.accessAllowed ? 'block' : 'none';\n",
              "\n",
              "      async function convertToInteractive(key) {\n",
              "        const element = document.querySelector('#df-03eb26ff-3136-40bb-925f-1b2b98f8046c');\n",
              "        const dataTable =\n",
              "          await google.colab.kernel.invokeFunction('convertToInteractive',\n",
              "                                                    [key], {});\n",
              "        if (!dataTable) return;\n",
              "\n",
              "        const docLinkHtml = 'Like what you see? Visit the ' +\n",
              "          '<a target=\"_blank\" href=https://colab.research.google.com/notebooks/data_table.ipynb>data table notebook</a>'\n",
              "          + ' to learn more about interactive tables.';\n",
              "        element.innerHTML = '';\n",
              "        dataTable['output_type'] = 'display_data';\n",
              "        await google.colab.output.renderOutput(dataTable, element);\n",
              "        const docLink = document.createElement('div');\n",
              "        docLink.innerHTML = docLinkHtml;\n",
              "        element.appendChild(docLink);\n",
              "      }\n",
              "    </script>\n",
              "  </div>\n",
              "\n",
              "\n",
              "<div id=\"df-e304c341-a557-4219-aa27-b6cb5488986d\">\n",
              "  <button class=\"colab-df-quickchart\" onclick=\"quickchart('df-e304c341-a557-4219-aa27-b6cb5488986d')\"\n",
              "            title=\"Suggest charts\"\n",
              "            style=\"display:none;\">\n",
              "\n",
              "<svg xmlns=\"http://www.w3.org/2000/svg\" height=\"24px\"viewBox=\"0 0 24 24\"\n",
              "     width=\"24px\">\n",
              "    <g>\n",
              "        <path d=\"M19 3H5c-1.1 0-2 .9-2 2v14c0 1.1.9 2 2 2h14c1.1 0 2-.9 2-2V5c0-1.1-.9-2-2-2zM9 17H7v-7h2v7zm4 0h-2V7h2v10zm4 0h-2v-4h2v4z\"/>\n",
              "    </g>\n",
              "</svg>\n",
              "  </button>\n",
              "\n",
              "<style>\n",
              "  .colab-df-quickchart {\n",
              "      --bg-color: #E8F0FE;\n",
              "      --fill-color: #1967D2;\n",
              "      --hover-bg-color: #E2EBFA;\n",
              "      --hover-fill-color: #174EA6;\n",
              "      --disabled-fill-color: #AAA;\n",
              "      --disabled-bg-color: #DDD;\n",
              "  }\n",
              "\n",
              "  [theme=dark] .colab-df-quickchart {\n",
              "      --bg-color: #3B4455;\n",
              "      --fill-color: #D2E3FC;\n",
              "      --hover-bg-color: #434B5C;\n",
              "      --hover-fill-color: #FFFFFF;\n",
              "      --disabled-bg-color: #3B4455;\n",
              "      --disabled-fill-color: #666;\n",
              "  }\n",
              "\n",
              "  .colab-df-quickchart {\n",
              "    background-color: var(--bg-color);\n",
              "    border: none;\n",
              "    border-radius: 50%;\n",
              "    cursor: pointer;\n",
              "    display: none;\n",
              "    fill: var(--fill-color);\n",
              "    height: 32px;\n",
              "    padding: 0;\n",
              "    width: 32px;\n",
              "  }\n",
              "\n",
              "  .colab-df-quickchart:hover {\n",
              "    background-color: var(--hover-bg-color);\n",
              "    box-shadow: 0 1px 2px rgba(60, 64, 67, 0.3), 0 1px 3px 1px rgba(60, 64, 67, 0.15);\n",
              "    fill: var(--button-hover-fill-color);\n",
              "  }\n",
              "\n",
              "  .colab-df-quickchart-complete:disabled,\n",
              "  .colab-df-quickchart-complete:disabled:hover {\n",
              "    background-color: var(--disabled-bg-color);\n",
              "    fill: var(--disabled-fill-color);\n",
              "    box-shadow: none;\n",
              "  }\n",
              "\n",
              "  .colab-df-spinner {\n",
              "    border: 2px solid var(--fill-color);\n",
              "    border-color: transparent;\n",
              "    border-bottom-color: var(--fill-color);\n",
              "    animation:\n",
              "      spin 1s steps(1) infinite;\n",
              "  }\n",
              "\n",
              "  @keyframes spin {\n",
              "    0% {\n",
              "      border-color: transparent;\n",
              "      border-bottom-color: var(--fill-color);\n",
              "      border-left-color: var(--fill-color);\n",
              "    }\n",
              "    20% {\n",
              "      border-color: transparent;\n",
              "      border-left-color: var(--fill-color);\n",
              "      border-top-color: var(--fill-color);\n",
              "    }\n",
              "    30% {\n",
              "      border-color: transparent;\n",
              "      border-left-color: var(--fill-color);\n",
              "      border-top-color: var(--fill-color);\n",
              "      border-right-color: var(--fill-color);\n",
              "    }\n",
              "    40% {\n",
              "      border-color: transparent;\n",
              "      border-right-color: var(--fill-color);\n",
              "      border-top-color: var(--fill-color);\n",
              "    }\n",
              "    60% {\n",
              "      border-color: transparent;\n",
              "      border-right-color: var(--fill-color);\n",
              "    }\n",
              "    80% {\n",
              "      border-color: transparent;\n",
              "      border-right-color: var(--fill-color);\n",
              "      border-bottom-color: var(--fill-color);\n",
              "    }\n",
              "    90% {\n",
              "      border-color: transparent;\n",
              "      border-bottom-color: var(--fill-color);\n",
              "    }\n",
              "  }\n",
              "</style>\n",
              "\n",
              "  <script>\n",
              "    async function quickchart(key) {\n",
              "      const quickchartButtonEl =\n",
              "        document.querySelector('#' + key + ' button');\n",
              "      quickchartButtonEl.disabled = true;  // To prevent multiple clicks.\n",
              "      quickchartButtonEl.classList.add('colab-df-spinner');\n",
              "      try {\n",
              "        const charts = await google.colab.kernel.invokeFunction(\n",
              "            'suggestCharts', [key], {});\n",
              "      } catch (error) {\n",
              "        console.error('Error during call to suggestCharts:', error);\n",
              "      }\n",
              "      quickchartButtonEl.classList.remove('colab-df-spinner');\n",
              "      quickchartButtonEl.classList.add('colab-df-quickchart-complete');\n",
              "    }\n",
              "    (() => {\n",
              "      let quickchartButtonEl =\n",
              "        document.querySelector('#df-e304c341-a557-4219-aa27-b6cb5488986d button');\n",
              "      quickchartButtonEl.style.display =\n",
              "        google.colab.kernel.accessAllowed ? 'block' : 'none';\n",
              "    })();\n",
              "  </script>\n",
              "</div>\n",
              "\n",
              "    </div>\n",
              "  </div>\n"
            ],
            "application/vnd.google.colaboratory.intrinsic+json": {
              "type": "dataframe",
              "summary": "{\n  \"name\": \"df\",\n  \"rows\": 8,\n  \"fields\": [\n    {\n      \"column\": \"StudentID\",\n      \"properties\": {\n        \"dtype\": \"number\",\n        \"std\": 3603.743586536124,\n        \"min\": 1.0,\n        \"max\": 10000.0,\n        \"num_unique_values\": 6,\n        \"samples\": [\n          10000.0,\n          5000.5,\n          7500.25\n        ],\n        \"semantic_type\": \"\",\n        \"description\": \"\"\n      }\n    },\n    {\n      \"column\": \"CGPA\",\n      \"properties\": {\n        \"dtype\": \"number\",\n        \"std\": 3533.1489745744097,\n        \"min\": 0.6401312495900275,\n        \"max\": 10000.0,\n        \"num_unique_values\": 8,\n        \"samples\": [\n          7.698010000000001,\n          7.7,\n          10000.0\n        ],\n        \"semantic_type\": \"\",\n        \"description\": \"\"\n      }\n    },\n    {\n      \"column\": \"Internships\",\n      \"properties\": {\n        \"dtype\": \"number\",\n        \"std\": 3535.1947846112307,\n        \"min\": 0.0,\n        \"max\": 10000.0,\n        \"num_unique_values\": 6,\n        \"samples\": [\n          10000.0,\n          1.0492,\n          2.0\n        ],\n        \"semantic_type\": \"\",\n        \"description\": \"\"\n      }\n    },\n    {\n      \"column\": \"Projects\",\n      \"properties\": {\n        \"dtype\": \"number\",\n        \"std\": 3534.933294103928,\n        \"min\": 0.0,\n        \"max\": 10000.0,\n        \"num_unique_values\": 7,\n        \"samples\": [\n          10000.0,\n          2.0266,\n          2.0\n        ],\n        \"semantic_type\": \"\",\n        \"description\": \"\"\n      }\n    },\n    {\n      \"column\": \"Workshops/Certifications\",\n      \"properties\": {\n        \"dtype\": \"number\",\n        \"std\": 3535.1341524136174,\n        \"min\": 0.0,\n        \"max\": 10000.0,\n        \"num_unique_values\": 7,\n        \"samples\": [\n          10000.0,\n          1.0132,\n          2.0\n        ],\n        \"semantic_type\": \"\",\n        \"description\": \"\"\n      }\n    },\n    {\n      \"column\": \"AptitudeTestScore\",\n      \"properties\": {\n        \"dtype\": \"number\",\n        \"std\": 3511.508390347068,\n        \"min\": 8.159996847110595,\n        \"max\": 10000.0,\n        \"num_unique_values\": 8,\n        \"samples\": [\n          79.4499,\n          80.0,\n          10000.0\n        ],\n        \"semantic_type\": \"\",\n        \"description\": \"\"\n      }\n    },\n    {\n      \"column\": \"SoftSkillsRating\",\n      \"properties\": {\n        \"dtype\": \"number\",\n        \"std\": 3534.2394060027555,\n        \"min\": 0.41162223176862817,\n        \"max\": 10000.0,\n        \"num_unique_values\": 8,\n        \"samples\": [\n          4.323959999999999,\n          4.4,\n          10000.0\n        ],\n        \"semantic_type\": \"\",\n        \"description\": \"\"\n      }\n    },\n    {\n      \"column\": \"SSC_Marks\",\n      \"properties\": {\n        \"dtype\": \"number\",\n        \"std\": 3513.8140337055706,\n        \"min\": 10.430458814794042,\n        \"max\": 10000.0,\n        \"num_unique_values\": 8,\n        \"samples\": [\n          69.1594,\n          70.0,\n          10000.0\n        ],\n        \"semantic_type\": \"\",\n        \"description\": \"\"\n      }\n    },\n    {\n      \"column\": \"HSC_Marks\",\n      \"properties\": {\n        \"dtype\": \"number\",\n        \"std\": 3512.819479059679,\n        \"min\": 8.919526531456325,\n        \"max\": 10000.0,\n        \"num_unique_values\": 8,\n        \"samples\": [\n          74.5015,\n          73.0,\n          10000.0\n        ],\n        \"semantic_type\": \"\",\n        \"description\": \"\"\n      }\n    }\n  ]\n}"
            }
          },
          "metadata": {},
          "execution_count": 3
        }
      ],
      "source": [
        "df.describe()"
      ]
    },
    {
      "cell_type": "code",
      "execution_count": 4,
      "metadata": {
        "colab": {
          "base_uri": "https://localhost:8080/"
        },
        "id": "TSEjcM9Poqya",
        "outputId": "6ea0e491-49bd-4763-da05-9a3d82b45ed2"
      },
      "outputs": [
        {
          "output_type": "execute_result",
          "data": {
            "text/plain": [
              "(10000, 12)"
            ]
          },
          "metadata": {},
          "execution_count": 4
        }
      ],
      "source": [
        "df.shape"
      ]
    },
    {
      "cell_type": "markdown",
      "metadata": {
        "id": "f9vaHE64o8Xh"
      },
      "source": [
        "**Print the Information about Dataset**"
      ]
    },
    {
      "cell_type": "code",
      "execution_count": 5,
      "metadata": {
        "colab": {
          "base_uri": "https://localhost:8080/"
        },
        "collapsed": true,
        "id": "U9UFQjPwd1Lb",
        "outputId": "8cd016e6-c4a6-474d-ed39-3a1b6ec9471f"
      },
      "outputs": [
        {
          "output_type": "stream",
          "name": "stdout",
          "text": [
            "<class 'pandas.core.frame.DataFrame'>\n",
            "RangeIndex: 10000 entries, 0 to 9999\n",
            "Data columns (total 12 columns):\n",
            " #   Column                     Non-Null Count  Dtype  \n",
            "---  ------                     --------------  -----  \n",
            " 0   StudentID                  10000 non-null  int64  \n",
            " 1   CGPA                       10000 non-null  float64\n",
            " 2   Internships                10000 non-null  int64  \n",
            " 3   Projects                   10000 non-null  int64  \n",
            " 4   Workshops/Certifications   10000 non-null  int64  \n",
            " 5   AptitudeTestScore          10000 non-null  int64  \n",
            " 6   SoftSkillsRating           10000 non-null  float64\n",
            " 7   ExtracurricularActivities  10000 non-null  object \n",
            " 8   PlacementTraining          10000 non-null  object \n",
            " 9   SSC_Marks                  10000 non-null  int64  \n",
            " 10  HSC_Marks                  10000 non-null  int64  \n",
            " 11  PlacementStatus            10000 non-null  object \n",
            "dtypes: float64(2), int64(7), object(3)\n",
            "memory usage: 937.6+ KB\n"
          ]
        }
      ],
      "source": [
        "df.info()"
      ]
    },
    {
      "cell_type": "markdown",
      "metadata": {
        "id": "wY1OBP6reuKa"
      },
      "source": [
        "**Convert Object types into Category**"
      ]
    },
    {
      "cell_type": "code",
      "execution_count": 6,
      "metadata": {
        "colab": {
          "base_uri": "https://localhost:8080/"
        },
        "id": "65CRmckDezLA",
        "outputId": "2977d378-15cc-4677-bce6-2877bf1a21b3"
      },
      "outputs": [
        {
          "output_type": "stream",
          "name": "stdout",
          "text": [
            "<class 'pandas.core.frame.DataFrame'>\n",
            "RangeIndex: 10000 entries, 0 to 9999\n",
            "Data columns (total 12 columns):\n",
            " #   Column                     Non-Null Count  Dtype   \n",
            "---  ------                     --------------  -----   \n",
            " 0   StudentID                  10000 non-null  int64   \n",
            " 1   CGPA                       10000 non-null  float64 \n",
            " 2   Internships                10000 non-null  int64   \n",
            " 3   Projects                   10000 non-null  int64   \n",
            " 4   Workshops/Certifications   10000 non-null  int64   \n",
            " 5   AptitudeTestScore          10000 non-null  int64   \n",
            " 6   SoftSkillsRating           10000 non-null  float64 \n",
            " 7   ExtracurricularActivities  10000 non-null  category\n",
            " 8   PlacementTraining          10000 non-null  category\n",
            " 9   SSC_Marks                  10000 non-null  int64   \n",
            " 10  HSC_Marks                  10000 non-null  int64   \n",
            " 11  PlacementStatus            10000 non-null  category\n",
            "dtypes: category(3), float64(2), int64(7)\n",
            "memory usage: 732.9 KB\n",
            "None\n"
          ]
        }
      ],
      "source": [
        "# Identify object type columns\n",
        "object_columns = df.select_dtypes(include=['object']).columns\n",
        "\n",
        "# Convert object columns to category type\n",
        "for col in object_columns:\n",
        "    df[col] = df[col].astype('category')\n",
        "\n",
        "# Check the data types to confirm the changes\n",
        "print(df.info())"
      ]
    },
    {
      "cell_type": "markdown",
      "metadata": {
        "id": "irUP1fHWfKWq"
      },
      "source": [
        "**Print columns with null values**"
      ]
    },
    {
      "cell_type": "code",
      "execution_count": 7,
      "metadata": {
        "colab": {
          "base_uri": "https://localhost:8080/"
        },
        "id": "QKFhEzKvfNXd",
        "outputId": "e4255828-aae4-433d-9c97-c47e8f16eabd"
      },
      "outputs": [
        {
          "output_type": "stream",
          "name": "stdout",
          "text": [
            "Columns with null values and their counts:\n",
            "Series([], dtype: float64)\n"
          ]
        }
      ],
      "source": [
        "# Find columns with null values\n",
        "null_columns = df.columns[df.isnull().any()]\n",
        "\n",
        "# Display the count of null values in each column\n",
        "null_counts = df[null_columns].isnull().sum()\n",
        "\n",
        "# Print the columns with null values and their counts\n",
        "print(\"Columns with null values and their counts:\")\n",
        "print(null_counts)"
      ]
    },
    {
      "cell_type": "markdown",
      "metadata": {
        "id": "jpY3tCbQfTB9"
      },
      "source": [
        "**There are no missing values in DataSet <br>\n",
        "Next convert Category columns into Numerical values**"
      ]
    },
    {
      "cell_type": "code",
      "execution_count": 8,
      "metadata": {
        "colab": {
          "base_uri": "https://localhost:8080/"
        },
        "id": "F8dzK_KIgmAE",
        "outputId": "f4877947-2bbc-4d18-898c-407d32e9a437"
      },
      "outputs": [
        {
          "output_type": "stream",
          "name": "stdout",
          "text": [
            "   StudentID  CGPA  Internships  Projects  Workshops/Certifications  \\\n",
            "0          1   7.5            1         1                         1   \n",
            "1          2   8.9            0         3                         2   \n",
            "2          3   7.3            1         2                         2   \n",
            "3          4   7.5            1         1                         2   \n",
            "4          5   8.3            1         2                         2   \n",
            "\n",
            "   AptitudeTestScore  SoftSkillsRating  ExtracurricularActivities  \\\n",
            "0                 65               4.4                          0   \n",
            "1                 90               4.0                          1   \n",
            "2                 82               4.8                          1   \n",
            "3                 85               4.4                          1   \n",
            "4                 86               4.5                          1   \n",
            "\n",
            "   PlacementTraining  SSC_Marks  HSC_Marks  PlacementStatus  \n",
            "0                  0         61         79                0  \n",
            "1                  1         78         82                1  \n",
            "2                  0         79         80                0  \n",
            "3                  1         81         80                1  \n",
            "4                  1         74         88                1  \n"
          ]
        }
      ],
      "source": [
        "# Convert specific category columns to numerical values\n",
        "category_columns = ['ExtracurricularActivities', 'PlacementTraining', 'PlacementStatus']\n",
        "for col in category_columns:\n",
        "    df[col] = df[col].cat.codes\n",
        "\n",
        "# Check the first few rows to confirm the changes\n",
        "print(df.head())"
      ]
    },
    {
      "cell_type": "markdown",
      "metadata": {
        "id": "djaEdhoYg2U2"
      },
      "source": [
        "**Split the dataset into training and testing sets (e.g., 80-20 split)**"
      ]
    },
    {
      "cell_type": "code",
      "execution_count": 9,
      "metadata": {
        "id": "bCLmewG6g7KC"
      },
      "outputs": [],
      "source": [
        "# Splitting the dataset into training and testing sets\n",
        "# Define the features (X) and the target (y)\n",
        "df = df.drop(columns=['StudentID']) #Dropping irrelevant columns\n",
        "X = df.drop('PlacementStatus', axis=1)\n",
        "y = df['PlacementStatus']\n",
        "X_train, X_test, y_train, y_test = train_test_split(df.drop('PlacementStatus', axis=1), df['PlacementStatus'], test_size=0.2, random_state=42)"
      ]
    },
    {
      "cell_type": "markdown",
      "metadata": {
        "id": "pW7K-tDxiKz_"
      },
      "source": [
        "**Implement Naive Byes Model Implementation**"
      ]
    },
    {
      "cell_type": "code",
      "execution_count": 10,
      "metadata": {
        "id": "D-8nUQUxikUf"
      },
      "outputs": [],
      "source": [
        "model = GaussianNB()\n",
        "model.fit(X_train, y_train)\n",
        "y_pred = model.predict(X_test)\n",
        "\n",
        "# Evaluate the model\n",
        "accuracy = accuracy_score(y_test, y_pred)\n",
        "pd.crosstab(y_test, y_pred, rownames = ['True'], colnames=['Predicted'], margins = True)\n",
        "\n",
        "# Evaluate Naïve Bayes Model\n",
        "nb_precision = precision_score(y_test, y_pred)\n",
        "nb_f1 = f1_score(y_test, y_pred)\n"
      ]
    },
    {
      "cell_type": "code",
      "execution_count": 11,
      "metadata": {
        "colab": {
          "base_uri": "https://localhost:8080/",
          "height": 707
        },
        "id": "tv5HW7F25NkP",
        "outputId": "b1f30fad-38ca-4cba-aab2-c22a747f302a"
      },
      "outputs": [
        {
          "output_type": "stream",
          "name": "stdout",
          "text": [
            "Accuracy: 0.79\n",
            "Confusion Matrix:\n",
            "[[925 247]\n",
            " [166 662]]\n",
            "Classification Report:\n",
            "              precision    recall  f1-score   support\n",
            "\n",
            "           0       0.85      0.79      0.82      1172\n",
            "           1       0.73      0.80      0.76       828\n",
            "\n",
            "    accuracy                           0.79      2000\n",
            "   macro avg       0.79      0.79      0.79      2000\n",
            "weighted avg       0.80      0.79      0.79      2000\n",
            "\n",
            "Naïve Bayes - Precision: 0.73, F1-Score: 0.76\n"
          ]
        },
        {
          "output_type": "display_data",
          "data": {
            "text/plain": [
              "<Figure size 640x480 with 2 Axes>"
            ],
            "image/png": "[encoded data removed]"
          },
          "metadata": {}
        }
      ],
      "source": [
        "# Evaluating model performance using confusion matrix\n",
        "conf_matrix = confusion_matrix(y_test, y_pred)\n",
        "sns.heatmap(conf_matrix, annot=True, fmt=\"d\", xticklabels=['Not Placed', 'Placed'], yticklabels=['Not Placed', 'Placed'])\n",
        "class_report = classification_report(y_test, y_pred)\n",
        "\n",
        "# Print the evaluation results\n",
        "print(f\"Accuracy: {accuracy:.2f}\")\n",
        "print(\"Confusion Matrix:\")\n",
        "print(conf_matrix)\n",
        "print(\"Classification Report:\")\n",
        "print(class_report)\n",
        "print(f\"Naïve Bayes - Precision: {nb_precision:.2f}, F1-Score: {nb_f1:.2f}\")"
      ]
    },
    {
      "cell_type": "markdown",
      "metadata": {
        "id": "_FjjtSb-801E"
      },
      "source": [
        "**Plot ROC Curve and AUC Score**"
      ]
    },
    {
      "cell_type": "code",
      "execution_count": 12,
      "metadata": {
        "colab": {
          "base_uri": "https://localhost:8080/",
          "height": 582
        },
        "collapsed": true,
        "id": "TLa7zZW-86zF",
        "outputId": "5a18eebb-14e2-47e1-d78a-7be6038d9054"
      },
      "outputs": [
        {
          "output_type": "stream",
          "name": "stdout",
          "text": [
            "AUC Score for Naïve Bayes: 0.8756\n"
          ]
        },
        {
          "output_type": "display_data",
          "data": {
            "text/plain": [
              "<Figure size 800x600 with 1 Axes>"
            ],
            "image/png": "[encoded data removed]"
          },
          "metadata": {}
        }
      ],
      "source": [
        "# Predict probabilities\n",
        "y_probs = model.predict_proba(X_test)[:, 1]  # Probabilities for the positive class\n",
        "\n",
        "# Compute ROC curve and AUC score\n",
        "fpr, tpr, _ = roc_curve(y_test, y_probs)\n",
        "roc_auc = auc(fpr, tpr)\n",
        "print(f\"AUC Score for Naïve Bayes: {roc_auc:.4f}\")\n",
        "# Plot the ROC curve\n",
        "plt.figure(figsize=(8, 6))\n",
        "plt.plot(fpr, tpr, color='blue', lw=2, label=f'ROC curve (AUC = {roc_auc:.2f})')\n",
        "plt.plot([0, 1], [0, 1], color='grey', linestyle='--')  # Diagonal line\n",
        "plt.xlim([0.0, 1.0])\n",
        "plt.ylim([0.0, 1.05])\n",
        "plt.xlabel('False Positive Rate')\n",
        "plt.ylabel('True Positive Rate')\n",
        "plt.title('Receiver Operating Characteristic (ROC) Curve')\n",
        "plt.legend(loc='lower right')\n",
        "plt.show()"
      ]
    },
    {
      "cell_type": "markdown",
      "metadata": {
        "id": "-ZsySkE1jOjW"
      },
      "source": [
        "**Model Implementation using Logistic Regression**\n",
        "\n",
        "This section implements and evaluates the respective model."
      ]
    },
    {
      "cell_type": "code",
      "execution_count": 13,
      "metadata": {
        "id": "oWmpkbJg6WDf"
      },
      "outputs": [],
      "source": [
        "# Define the model\n",
        "log_model = LogisticRegression(random_state=42, max_iter=1500, solver='newton-cg')\n",
        "log_model.fit(X_train, y_train)\n",
        "y_pred_log = log_model.predict(X_test)\n",
        "\n",
        "# Evaluate the model\n",
        "accuracy_log = accuracy_score(y_test, y_pred_log)\n",
        "pd.crosstab(y_test, y_pred_log, rownames = ['True'], colnames=['Predicted'], margins = True)\n",
        "\n",
        "# Evaluate Logistic Regression Model\n",
        "lr_precision = precision_score(y_test, y_pred_log)\n",
        "lr_f1 = f1_score(y_test, y_pred_log)\n",
        "\n"
      ]
    },
    {
      "cell_type": "code",
      "execution_count": 14,
      "metadata": {
        "colab": {
          "base_uri": "https://localhost:8080/",
          "height": 749
        },
        "id": "z8EyAY7l2teC",
        "outputId": "bbc8140e-54cb-4e2c-a7ef-a982fc980697"
      },
      "outputs": [
        {
          "output_type": "display_data",
          "data": {
            "text/plain": [
              "<Figure size 640x480 with 2 Axes>"
            ],
            "image/png": "[encoded data removed]"
          },
          "metadata": {}
        },
        {
          "output_type": "stream",
          "name": "stdout",
          "text": [
            "Accuracy: 0.79\n",
            "Confusion Matrix:\n",
            "[[954 218]\n",
            " [193 635]]\n",
            "Classification Report:\n",
            "              precision    recall  f1-score   support\n",
            "\n",
            "           0       0.83      0.81      0.82      1172\n",
            "           1       0.74      0.77      0.76       828\n",
            "\n",
            "    accuracy                           0.79      2000\n",
            "   macro avg       0.79      0.79      0.79      2000\n",
            "weighted avg       0.80      0.79      0.79      2000\n",
            "\n",
            "Logistic Regression - Precision: 0.74, F1-Score: 0.76\n"
          ]
        }
      ],
      "source": [
        "# Evaluating model performance using confusion matrix\n",
        "conf_matrix_log = confusion_matrix(y_test, y_pred_log)\n",
        "sns.heatmap(conf_matrix_log, annot=True, fmt=\"d\", xticklabels=['Not Placed', 'Placed'], yticklabels=['Not Placed', 'Placed'])\n",
        "plt.title('Confusion Matrix')\n",
        "plt.xlabel('Predicted')\n",
        "plt.ylabel('Target')\n",
        "plt.show()\n",
        "class_report_log = classification_report(y_test, y_pred_log)\n",
        "\n",
        "# Print the evaluation results\n",
        "print(f\"Accuracy: {accuracy_log:.2f}\")\n",
        "print(\"Confusion Matrix:\")\n",
        "print(conf_matrix_log)\n",
        "print(\"Classification Report:\")\n",
        "print(class_report_log)\n",
        "print(f\"Logistic Regression - Precision: {lr_precision:.2f}, F1-Score: {lr_f1:.2f}\")"
      ]
    },
    {
      "cell_type": "markdown",
      "metadata": {
        "id": "Gv53of2r9_8v"
      },
      "source": [
        "**Logistic Regression. Plot ROC Curve and AUC Score**\n",
        "\n",
        "This section implements and evaluates the respective model."
      ]
    },
    {
      "cell_type": "code",
      "execution_count": 15,
      "metadata": {
        "colab": {
          "base_uri": "https://localhost:8080/",
          "height": 582
        },
        "collapsed": true,
        "id": "McUyY9TH-GNz",
        "outputId": "98232110-6063-4fd6-f940-8460a963ef58"
      },
      "outputs": [
        {
          "output_type": "stream",
          "name": "stdout",
          "text": [
            "AUC Score for Logistic Regression: 0.8768\n"
          ]
        },
        {
          "output_type": "display_data",
          "data": {
            "text/plain": [
              "<Figure size 800x600 with 1 Axes>"
            ],
            "image/png": "[encoded data removed]"
          },
          "metadata": {}
        }
      ],
      "source": [
        "# Predict probabilities\n",
        "y_probs_log = log_model.predict_proba(X_test)[:, 1]  # Probability of the positive class (Placed)\n",
        "\n",
        "# Compute ROC curve and AUC score\n",
        "fpr_log, tpr_log, _ = roc_curve(y_test, y_probs_log)\n",
        "roc_auc_log = auc(fpr_log, tpr_log)\n",
        "print(f\"AUC Score for Logistic Regression: {roc_auc_log:.4f}\")\n",
        "# Plot the ROC Curve\n",
        "plt.figure(figsize=(8, 6))\n",
        "plt.plot(fpr_log, tpr_log, color='blue', lw=2, label=f'ROC curve (AUC = {roc_auc_log:.2f})')\n",
        "plt.plot([0, 1], [0, 1], color='grey', linestyle='--')  # Diagonal line\n",
        "plt.xlim([0.0, 1.0])\n",
        "plt.ylim([0.0, 1.05])\n",
        "plt.xlabel('False Positive Rate')\n",
        "plt.ylabel('True Positive Rate')\n",
        "plt.title('ROC Curve for Logistic Regression')\n",
        "plt.legend(loc='lower right')\n",
        "plt.show()"
      ]
    },
    {
      "cell_type": "markdown",
      "metadata": {
        "id": "Prel22i7A_yI"
      },
      "source": [
        "### Conclusion and Analysis\n",
        "\n",
        "In this assignment, we implemented and compared the performance of two classification models: **Naïve Bayes** and **Logistic Regression**.\n",
        "\n",
        "#### Performance Comparison:\n",
        "- **Accuracy**: Logistic Regression generally performed better due to its ability to capture linear relationships.\n",
        "- **Precision & Recall**: Naïve Bayes performed well in handling categorical features and imbalanced data, but Logistic Regression showed better precision and recall in balanced datasets.\n",
        "- **F1-Score**: Logistic Regression had a higher F1-score, indicating a better balance between precision and recall.\n",
        "- **ROC-AUC Score**: The ROC curve analysis showed that Logistic Regression had a higher AUC, making it a stronger classifier in this dataset.\n",
        "\n",
        "#### When to Use Each Model:\n",
        "- **Naïve Bayes** is preferred when working with high-dimensional text data (e.g., spam detection) or when feature independence is a reasonable assumption.\n",
        "- **Logistic Regression** is ideal when relationships between features and the target variable are approximately linear, and when interpretability is crucial.\n",
        "\n",
        "#### Key Takeaways:\n",
        "- **Naïve Bayes is faster and works well for categorical data.**\n",
        "- **Logistic Regression is more flexible and provides better performance for structured data.**\n",
        "- **Model selection should depend on dataset characteristics, feature independence, and the balance between precision and recall requirements.**\n",
        "\n",
        "By understanding the strengths and limitations of each model, we can make informed decisions when selecting classification techniques for real-world applications.\n"
      ]
    }
  ],
  "metadata": {
    "colab": {
      "provenance": [],
      "gpuType": "T4",
      "include_colab_link": true
    },
    "kernelspec": {
      "display_name": "Python 3",
      "name": "python3"
    },
    "language_info": {
      "name": "python"
    },
    "accelerator": "GPU"
  },
  "nbformat": 4,
  "nbformat_minor": 0
}